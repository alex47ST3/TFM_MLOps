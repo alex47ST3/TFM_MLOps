{
 "cells": [
  {
   "attachments": {},
   "cell_type": "markdown",
   "metadata": {},
   "source": [
    "# main.py"
   ]
  },
  {
   "cell_type": "code",
   "execution_count": 1,
   "metadata": {},
   "outputs": [
    {
     "name": "stdout",
     "output_type": "stream",
     "text": [
      "Data downloaded to ./data/\n",
      "All CSV files in ./data/ have been moved to ./data/raw\n",
      "All files and directories in ./data/ except for ['./data/raw'] have been deleted\n"
     ]
    }
   ],
   "source": [
    "import utils\n",
    "from importer import Importer\n",
    "\n",
    "utils.set_parent_directory_as_working_directory()\n",
    "\n",
    "# TODO: Move this to a config file\n",
    "DATA_FOLDER = \"./data/\"\n",
    "KAGGLE_DATASET_NAME = \"wordsforthewise/lending-club\"\n",
    "RAW_DATA_FOLDER_NAME = \"raw\"\n",
    "\n",
    "# Import the data\n",
    "importer_name = \"importer\"\n",
    "importer =Importer(\n",
    "    name=importer_name\n",
    "    , data_folder=DATA_FOLDER\n",
    "    , kaggle_dataset_name=KAGGLE_DATASET_NAME\n",
    "    , destination_directory_name=RAW_DATA_FOLDER_NAME)\n",
    "\n",
    "importer.execute('raw')"
   ]
  }
 ],
 "metadata": {
  "kernelspec": {
   "display_name": "Python 3",
   "language": "python",
   "name": "python3"
  },
  "language_info": {
   "codemirror_mode": {
    "name": "ipython",
    "version": 3
   },
   "file_extension": ".py",
   "mimetype": "text/x-python",
   "name": "python",
   "nbconvert_exporter": "python",
   "pygments_lexer": "ipython3",
   "version": "3.10.10"
  },
  "orig_nbformat": 4
 },
 "nbformat": 4,
 "nbformat_minor": 2
}
