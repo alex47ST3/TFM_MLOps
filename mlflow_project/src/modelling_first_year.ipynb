{
 "cells": [
  {
   "cell_type": "code",
   "execution_count": 1,
   "metadata": {},
   "outputs": [],
   "source": [
    "# Importer\n",
    "import classes.utils as utils\n",
    "from classes.splitter import Splitter\n",
    "from classes.classifier_trainer import ClassifierTrainer\n",
    "from classes.drift_detector import DriftDetector\n",
    "\n",
    "from sklearn.tree import DecisionTreeClassifier\n",
    "\n",
    "import numpy as np\n",
    "\n",
    "\n",
    "utils.set_parent_directory_as_working_directory()\n",
    "\n",
    "# TODO: Move this to a config file\n",
    "# Importing\n",
    "DATA_FOLDER = \"./data\"\n",
    "\n",
    "\n",
    "FE_DATA_PATH = DATA_FOLDER +'/fe_data.csv'\n",
    "DATES_DATA_PATH = DATA_FOLDER +'/dates_data.csv'\n",
    "\n",
    "SEED = 47\n"
   ]
  },
  {
   "attachments": {},
   "cell_type": "markdown",
   "metadata": {},
   "source": [
    "# 0 Introduction\n",
    "In this notebook we will develop our first model. We are going to assume that we have 1 year of loans that have finished (finished_d = issued date + total length of loan), which basically place ourselves on 2011-05-01.\n",
    "\n",
    "We need to use this variable and not issued_date because when you issue new loan you don't know yet if it's going to be fully paid or not. So we need to wait until the loan is finished to know if it was fully paid or not.\n",
    "\n",
    "\n",
    "# 1 Splitting data\n",
    "Before we get hands on with the modelling, we need to split the data into train and test sets. As we mentioned in the preprocessing notebook we will be using the create variable  'finished_d' to \n",
    "\n",
    "We will use the train set to train the model and the test set to evaluate the model. We will use the train_test_split function from sklearn to split the data. We will use 80% of the data for training and 20% for testing."
   ]
  },
  {
   "cell_type": "code",
   "execution_count": 2,
   "metadata": {},
   "outputs": [
    {
     "name": "stdout",
     "output_type": "stream",
     "text": [
      "-------------- Executing splitter --------------\n",
      "Data loaded from ./data/fe_data.csv\n",
      "Dates data loaded from ./data/dates_data.csv\n",
      "Test and train attributes defined 0.3.\n",
      "        Test size: 678201\n",
      "        Train size: 1582467\n",
      "--------------- splitter finished ---------------\n"
     ]
    }
   ],
   "source": [
    "splitter_name = \"splitter\"\n",
    "\n",
    "splitter = Splitter(\n",
    "    name = splitter_name\n",
    "    , data_path = FE_DATA_PATH\n",
    "    , date_cols = []\n",
    "    , target_variable = 'loan_status'\n",
    "    , destination_directory = DATA_FOLDER\n",
    "    , dates_data_path = DATES_DATA_PATH\n",
    "    , column_to_split_by = 'finished_d'\n",
    "    , test_size = 0.3\n",
    "    , random_state = SEED\n",
    ")\n",
    "\n",
    "splitter.execute()\n"
   ]
  },
  {
   "attachments": {},
   "cell_type": "markdown",
   "metadata": {},
   "source": [
    "This object contains x_train, x_test, y_train and y_test, for the whole series later we can filter them by changing \"number_of_months\".\n",
    "\n",
    "# 2 Modelling with MLOps methodology\n",
    "\n",
    "In this part is where we are going to dig deeper into MLOps methodology and simulate what the process could be imagining that we start modelling after we have 1 year of finished loans (since the first one finished). The techniques we are going to use are:\n",
    "\n",
    "- Concept drift with online evaluation by training a challenger model\n",
    "- Input drift and target drift detection with univariate statistical tests and for multivariate detection we are going to use a domain classifier.\n",
    "\n",
    "## 2.2 First year of data"
   ]
  },
  {
   "cell_type": "code",
   "execution_count": 3,
   "metadata": {},
   "outputs": [
    {
     "name": "stdout",
     "output_type": "stream",
     "text": [
      "Date column finished_d added to the data\n",
      "Data filtered by 0 and 12 months\n",
      "Test and train attributes defined 0.3.\n",
      "        Test size: 597\n",
      "        Train size: 1393\n",
      "Fitting grid search with 5 splits and 5 repeats\n",
      "Best parameters: {'max_depth': 2}\n",
      "Best cross-validation score: 0.59\n",
      "Model trainer_first_year has made the predictions\n",
      "Model trainer_first_year has made the predictions\n"
     ]
    }
   ],
   "source": [
    "# create a list of 5 random integers\n",
    "random_max_depth = np.random.randint(1, 50, 5)\n",
    "experiment_name = 'first_year_model_baseline'\n",
    "splitter.set_train_test_filtered(number_of_months=12)\n",
    "\n",
    "\n",
    "trainer_first_year = ClassifierTrainer(\n",
    "    name = 'trainer_first_year'\n",
    "    , model_class = DecisionTreeClassifier()\n",
    "    , random_state=SEED\n",
    "    , splitter = splitter\n",
    "    , objective_metric = 'roc_auc'\n",
    ")\n",
    "\n",
    "trainer_first_year.train_grid_search(\n",
    "    param_distributions = {'max_depth': random_max_depth}  \n",
    ")\n",
    "\n",
    "trainer_first_year.predict()\n",
    "\n",
    "trainer_first_year.results = trainer_first_year.evaluate(splitter.y_test, trainer_first_year.y_pred)\n"
   ]
  },
  {
   "attachments": {},
   "cell_type": "markdown",
   "metadata": {},
   "source": [
    "Once the model has been trained and the predictions have been made on the test set we can see the metrics"
   ]
  },
  {
   "cell_type": "code",
   "execution_count": 4,
   "metadata": {},
   "outputs": [
    {
     "data": {
      "text/plain": [
       "{'accuracy': 0.7688442211055276,\n",
       " 'precision': 0.7828371278458844,\n",
       " 'recall': 0.9696312364425163,\n",
       " 'f1': 0.8662790697674418,\n",
       " 'roc_auc': 0.5289332652800817}"
      ]
     },
     "execution_count": 4,
     "metadata": {},
     "output_type": "execute_result"
    }
   ],
   "source": [
    "trainer_first_year.results"
   ]
  },
  {
   "attachments": {},
   "cell_type": "markdown",
   "metadata": {},
   "source": [
    "If we are happy we can now log the experiment and model in MLflow. We are going to consider this model the model in production.\n",
    "\n",
    "We need to initialize the MLflow tracking server\n",
    "```bash\n",
    "mlflow server --backend-store-uri sqlite:///mydb.sqlite\n",
    "```\n",
    "\n",
    "In this case I am doing it locally [using a sqlite database as a backend store](https://mlflow.org/docs/latest/tracking.html#scenario-3-mlflow-on-localhost-with-tracking-server).\n",
    "\n",
    "URL: http://127.0.0.1:5000"
   ]
  },
  {
   "cell_type": "code",
   "execution_count": 5,
   "metadata": {},
   "outputs": [],
   "source": [
    "#trainer_first_year.run_experiment_mlflow(experiment_name = 'dt_first_year_test', log_models=True)"
   ]
  },
  {
   "attachments": {},
   "cell_type": "markdown",
   "metadata": {},
   "source": [
    "So now we have trained a model after 1 year of data, as we mentioned we want to know track if this model is going to perform well on the new incoming data, in a real scenario we could track on daily basis if the input data is drifting and retrain a new model and set a time window to retrain a new model.\n",
    "\n",
    "In this case as we already have all the data series, what we are going to do is analyze the drift and retrain a new model every year\n",
    "\n",
    "## 2.3 Second year of data\n",
    "\n",
    "Imagine that a year has passed after we trained our first model and we have new data, we want to know if the model is still performing well on the new data."
   ]
  },
  {
   "cell_type": "code",
   "execution_count": 6,
   "metadata": {},
   "outputs": [
    {
     "name": "stdout",
     "output_type": "stream",
     "text": [
      "Date column finished_d added to the data\n",
      "Data filtered by 0 and 12 months\n",
      "Date column finished_d added to the data\n",
      "Data filtered by 12 and 24 months\n",
      "Kolmogorov-Smirnov test\n",
      "Warning: annual_inc \n",
      "Warning: fico_range_high \n",
      "Warning: installment \n",
      "Warning: int_rate \n",
      "Warning: revol_bal \n",
      "Warning: revol_util \n",
      "Warning: issue_d_month \n",
      "Warning: issue_d_year \n",
      "Warning: addr_state_CA \n",
      "Warning: purpose_debt_consolidation \n",
      "Warning: sub_grade_A5 \n",
      "Warning: verification_status_Not Verified \n",
      "Warning: verification_status_Source Verified \n",
      "Warning: verification_status_Verified \n",
      "Chi square test\n"
     ]
    },
    {
     "data": {
      "text/plain": [
       "['annual_inc',\n",
       " 'fico_range_high',\n",
       " 'installment',\n",
       " 'int_rate',\n",
       " 'revol_bal',\n",
       " 'revol_util',\n",
       " 'issue_d_month',\n",
       " 'issue_d_year',\n",
       " 'addr_state_CA',\n",
       " 'purpose_debt_consolidation',\n",
       " 'sub_grade_A5',\n",
       " 'verification_status_Not Verified',\n",
       " 'verification_status_Source Verified',\n",
       " 'verification_status_Verified']"
      ]
     },
     "execution_count": 6,
     "metadata": {},
     "output_type": "execute_result"
    }
   ],
   "source": [
    "first_year_X,  first_year_y= splitter.x_y_filter_by_month(from_month=0, to_month=12)\n",
    "second_year_X,  second_year_y= splitter.x_y_filter_by_month(from_month=12, to_month=24)\n",
    "\n",
    "\n",
    "drift_detector = DriftDetector(\n",
    "    name = 'drift_detector'\n",
    "    , random_state=SEED\n",
    ")\n",
    "\n",
    "drift_detector.univariate_input_drift(first_year_X, second_year_X)"
   ]
  },
  {
   "attachments": {},
   "cell_type": "markdown",
   "metadata": {},
   "source": [
    "# Continuar aqui!"
   ]
  },
  {
   "cell_type": "code",
   "execution_count": 7,
   "metadata": {},
   "outputs": [
    {
     "name": "stdout",
     "output_type": "stream",
     "text": [
      "Date column finished_d added to the data\n",
      "Data filtered by 24 months\n"
     ]
    },
    {
     "name": "stderr",
     "output_type": "stream",
     "text": [
      "c:\\Users\\Asus\\Desktop\\TFM\\TFM_MLOps\\mlflow_project\\src\\classes\\splitter.py:66: SettingWithCopyWarning: \n",
      "A value is trying to be set on a copy of a slice from a DataFrame\n",
      "\n",
      "See the caveats in the documentation: https://pandas.pydata.org/pandas-docs/stable/user_guide/indexing.html#returning-a-view-versus-a-copy\n",
      "  filtered_data.drop(columns=self.column_to_split_by, inplace=True)\n",
      "2023/05/04 17:56:35 INFO mlflow.tracking.fluent: Experiment with name 'second_year_model_baseline' does not exist. Creating a new experiment.\n",
      "2023/05/04 17:56:35 WARNING mlflow.utils.autologging_utils: You are using an unsupported version of sklearn. If you encounter errors during autologging, try upgrading / downgrading sklearn to a supported version, or try upgrading MLflow.\n"
     ]
    },
    {
     "name": "stdout",
     "output_type": "stream",
     "text": [
      "Test and train attributes defined 0.3.\n",
      "        Test size: 1375\n",
      "        Train size: 3208\n",
      "Experiment run_id=e77c94e828f341e9bd908e7e51db212d created in tracking URI=http://localhost:5000\n"
     ]
    }
   ],
   "source": [
    "splitter.split_data_filtered(number_of_months=24)\n",
    "\n",
    "trainer_second_year = Trainer(\n",
    "    name = 'trainer'\n",
    "    , model_class = DecisionTreeClassifier()\n",
    "    , random_state=random_state\n",
    "    , splitter = splitter\n",
    ")\n",
    "\n",
    "\n",
    "trainer_second_year.set_model_params(best_params)\n",
    "\n",
    "trainer_second_year.run_experiment_mlflow(\n",
    "    experiment_name = 'second_year_model_baseline'\n",
    ")\n",
    "\n"
   ]
  },
  {
   "cell_type": "code",
   "execution_count": 11,
   "metadata": {},
   "outputs": [],
   "source": [
    "from sklearn.metrics import ConfusionMatrixDisplay\n",
    "from sklearn.metrics import confusion_matrix, classification_report\n",
    "import matplotlib.pyplot as plt\n",
    "def plot_confusion_matrix(y, y_pred):\n",
    "    cm_pred = confusion_matrix(y, y_pred)\n",
    "    ConfusionMatrixDisplay(confusion_matrix=cm_pred).plot()\n",
    "\n",
    "\n",
    "def get_classification_metrics(y, y_pred):\n",
    "    plot_confusion_matrix(y, y_pred)\n",
    "    print(classification_report(y, y_pred))\n",
    "\n",
    "prod_model_preds = trainer_first_year.model_class.predict(splitter.X_test)\n",
    "challenger_model_preds = trainer_second_year.model_class.predict(splitter.X_test)\n",
    "\n"
   ]
  },
  {
   "cell_type": "code",
   "execution_count": 12,
   "metadata": {},
   "outputs": [
    {
     "name": "stdout",
     "output_type": "stream",
     "text": [
      "              precision    recall  f1-score   support\n",
      "\n",
      "           0       0.41      0.60      0.49       287\n",
      "           1       0.88      0.78      0.83      1088\n",
      "\n",
      "    accuracy                           0.74      1375\n",
      "   macro avg       0.65      0.69      0.66      1375\n",
      "weighted avg       0.78      0.74      0.76      1375\n",
      "\n"
     ]
    }
   ],
   "source": [
    "get_classification_metrics(splitter.y_test, prod_model_preds)"
   ]
  },
  {
   "cell_type": "code",
   "execution_count": 13,
   "metadata": {},
   "outputs": [
    {
     "name": "stdout",
     "output_type": "stream",
     "text": [
      "              precision    recall  f1-score   support\n",
      "\n",
      "           0       0.29      0.30      0.30       287\n",
      "           1       0.81      0.81      0.81      1088\n",
      "\n",
      "    accuracy                           0.70      1375\n",
      "   macro avg       0.55      0.55      0.55      1375\n",
      "weighted avg       0.71      0.70      0.71      1375\n",
      "\n"
     ]
    }
   ],
   "source": [
    "get_classification_metrics(splitter.y_test, challenger_model_preds )"
   ]
  },
  {
   "cell_type": "code",
   "execution_count": 30,
   "metadata": {},
   "outputs": [],
   "source": [
    "import pandas as pd\n",
    "from sklearn import metrics\n",
    "\n",
    "def evaluate(y_test, y_preds):\n",
    "    \"\"\"This function evaluates the model\n",
    "    and returns a dictionary with the results\n",
    "    \"\"\" \n",
    "    results = {}\n",
    "    results['accuracy'] = metrics.accuracy_score(y_test, y_preds)\n",
    "    results['precision'] = metrics.precision_score(y_test, y_preds)\n",
    "    results['recall'] = metrics.recall_score(y_test, y_preds)\n",
    "    results['f1'] = metrics.f1_score(y_test, y_preds)\n",
    "    results['roc_auc'] = metrics.roc_auc_score(y_test, y_preds)\n",
    "    return results\n",
    "        \n",
    "\n",
    "def choose_prod_challenger_model(prod, challenger, objective_metric='roc_auc'):\n",
    "    prod_model_preds = prod.predict(splitter.X_test)\n",
    "    challenger_model_preds = challenger.predict(splitter.X_test)\n",
    "    prod_model_metrics = evaluate(splitter.y_test, prod_model_preds)\n",
    "    challenger_model_metrics = evaluate(splitter.y_test, challenger_model_preds)\n",
    "\n",
    "    if prod_model_metrics[objective_metric] > challenger_model_metrics[objective_metric]:\n",
    "        print('Prod model is better')\n",
    "        return  prod_model_metrics, 0\n",
    "    else:\n",
    "        print('Challenger model is better')\n",
    "        return challenger_model_metrics, 1\n",
    "\n",
    "def run_whole_timeseries(params, splitter, experiment_prefix,  step, random_state=47):\n",
    "\n",
    "    start_date = splitter.dates_data['finished_d'].min()\n",
    "    end_date = splitter.dates_data['finished_d'].max()\n",
    "    metrics = {}\n",
    "    models = []\n",
    "    months = step\n",
    "\n",
    "    while start_date < end_date:\n",
    "        \n",
    "        splitter.split_data_filtered(number_of_months=months)\n",
    "\n",
    "        trainer = Trainer(\n",
    "            name = 'trainer'\n",
    "            , model_class = DecisionTreeClassifier()\n",
    "            , random_state=random_state\n",
    "            , splitter = splitter\n",
    "        )\n",
    "\n",
    "        trainer.set_model_params(params)\n",
    "\n",
    "        trainer.train()\n",
    "        if len(models)>0:\n",
    "            prod = models[-1]\n",
    "            challenger = trainer.model_class\n",
    "            challenger_metrics, is_challenger = choose_prod_challenger_model(prod, challenger)\n",
    "            if is_challenger:\n",
    "                models.append(trainer.model_class)\n",
    "                metrics[experiment_prefix + str(start_date)] = challenger_metrics\n",
    "        else:\n",
    "            trainer.predict()\n",
    "            metrics[experiment_prefix + str(start_date)] = trainer.evaluate()\n",
    "            models.append(trainer.model_class)\n",
    "\n",
    "        months += step       \n",
    "        start_date = start_date + pd.DateOffset(months=step)\n",
    "    \n",
    "    return metrics, models\n",
    "\n",
    "\n"
   ]
  },
  {
   "cell_type": "code",
   "execution_count": 31,
   "metadata": {},
   "outputs": [
    {
     "name": "stdout",
     "output_type": "stream",
     "text": [
      "Date column finished_d added to the data\n",
      "Data filtered by 12 months\n"
     ]
    },
    {
     "name": "stderr",
     "output_type": "stream",
     "text": [
      "c:\\Users\\Asus\\Desktop\\TFM\\TFM_MLOps\\mlflow_project\\src\\classes\\splitter.py:66: SettingWithCopyWarning: \n",
      "A value is trying to be set on a copy of a slice from a DataFrame\n",
      "\n",
      "See the caveats in the documentation: https://pandas.pydata.org/pandas-docs/stable/user_guide/indexing.html#returning-a-view-versus-a-copy\n",
      "  filtered_data.drop(columns=self.column_to_split_by, inplace=True)\n"
     ]
    },
    {
     "name": "stdout",
     "output_type": "stream",
     "text": [
      "Test and train attributes defined 0.3.\n",
      "        Test size: 597\n",
      "        Train size: 1393\n"
     ]
    },
    {
     "name": "stderr",
     "output_type": "stream",
     "text": [
      "2023/05/04 19:11:17 WARNING mlflow.utils.autologging_utils: Encountered unexpected error during sklearn autologging: RESOURCE_DOES_NOT_EXIST: No Experiment with id=664446553311031711 exists\n"
     ]
    },
    {
     "name": "stdout",
     "output_type": "stream",
     "text": [
      "Model trainer trained\n",
      "Model trainer predicted\n",
      "Date column finished_d added to the data\n",
      "Data filtered by 24 months\n"
     ]
    },
    {
     "name": "stderr",
     "output_type": "stream",
     "text": [
      "c:\\Users\\Asus\\Desktop\\TFM\\TFM_MLOps\\mlflow_project\\src\\classes\\splitter.py:66: SettingWithCopyWarning: \n",
      "A value is trying to be set on a copy of a slice from a DataFrame\n",
      "\n",
      "See the caveats in the documentation: https://pandas.pydata.org/pandas-docs/stable/user_guide/indexing.html#returning-a-view-versus-a-copy\n",
      "  filtered_data.drop(columns=self.column_to_split_by, inplace=True)\n",
      "2023/05/04 19:11:21 WARNING mlflow.utils.autologging_utils: Encountered unexpected error during sklearn autologging: RESOURCE_DOES_NOT_EXIST: No Experiment with id=664446553311031711 exists\n"
     ]
    },
    {
     "name": "stdout",
     "output_type": "stream",
     "text": [
      "Test and train attributes defined 0.3.\n",
      "        Test size: 1375\n",
      "        Train size: 3208\n",
      "Model trainer trained\n",
      "Prod model is better\n",
      "Date column finished_d added to the data\n",
      "Data filtered by 36 months\n"
     ]
    },
    {
     "name": "stderr",
     "output_type": "stream",
     "text": [
      "c:\\Users\\Asus\\Desktop\\TFM\\TFM_MLOps\\mlflow_project\\src\\classes\\splitter.py:66: SettingWithCopyWarning: \n",
      "A value is trying to be set on a copy of a slice from a DataFrame\n",
      "\n",
      "See the caveats in the documentation: https://pandas.pydata.org/pandas-docs/stable/user_guide/indexing.html#returning-a-view-versus-a-copy\n",
      "  filtered_data.drop(columns=self.column_to_split_by, inplace=True)\n",
      "2023/05/04 19:11:26 WARNING mlflow.utils.autologging_utils: Encountered unexpected error during sklearn autologging: RESOURCE_DOES_NOT_EXIST: No Experiment with id=664446553311031711 exists\n"
     ]
    },
    {
     "name": "stdout",
     "output_type": "stream",
     "text": [
      "Test and train attributes defined 0.3.\n",
      "        Test size: 3651\n",
      "        Train size: 8517\n",
      "Model trainer trained\n",
      "Prod model is better\n",
      "Date column finished_d added to the data\n",
      "Data filtered by 48 months\n"
     ]
    },
    {
     "name": "stderr",
     "output_type": "stream",
     "text": [
      "c:\\Users\\Asus\\Desktop\\TFM\\TFM_MLOps\\mlflow_project\\src\\classes\\splitter.py:66: SettingWithCopyWarning: \n",
      "A value is trying to be set on a copy of a slice from a DataFrame\n",
      "\n",
      "See the caveats in the documentation: https://pandas.pydata.org/pandas-docs/stable/user_guide/indexing.html#returning-a-view-versus-a-copy\n",
      "  filtered_data.drop(columns=self.column_to_split_by, inplace=True)\n",
      "2023/05/04 19:11:30 WARNING mlflow.utils.autologging_utils: Encountered unexpected error during sklearn autologging: RESOURCE_DOES_NOT_EXIST: No Experiment with id=664446553311031711 exists\n"
     ]
    },
    {
     "name": "stdout",
     "output_type": "stream",
     "text": [
      "Test and train attributes defined 0.3.\n",
      "        Test size: 6587\n",
      "        Train size: 15367\n",
      "Model trainer trained\n",
      "Prod model is better\n",
      "Date column finished_d added to the data\n",
      "Data filtered by 60 months\n"
     ]
    },
    {
     "name": "stderr",
     "output_type": "stream",
     "text": [
      "c:\\Users\\Asus\\Desktop\\TFM\\TFM_MLOps\\mlflow_project\\src\\classes\\splitter.py:66: SettingWithCopyWarning: \n",
      "A value is trying to be set on a copy of a slice from a DataFrame\n",
      "\n",
      "See the caveats in the documentation: https://pandas.pydata.org/pandas-docs/stable/user_guide/indexing.html#returning-a-view-versus-a-copy\n",
      "  filtered_data.drop(columns=self.column_to_split_by, inplace=True)\n"
     ]
    },
    {
     "name": "stdout",
     "output_type": "stream",
     "text": [
      "Test and train attributes defined 0.3.\n",
      "        Test size: 13091\n",
      "        Train size: 30544\n"
     ]
    },
    {
     "name": "stderr",
     "output_type": "stream",
     "text": [
      "2023/05/04 19:11:34 WARNING mlflow.utils.autologging_utils: Encountered unexpected error during sklearn autologging: RESOURCE_DOES_NOT_EXIST: No Experiment with id=664446553311031711 exists\n"
     ]
    },
    {
     "name": "stdout",
     "output_type": "stream",
     "text": [
      "Model trainer trained\n",
      "Prod model is better\n",
      "Date column finished_d added to the data\n",
      "Data filtered by 72 months\n"
     ]
    },
    {
     "name": "stderr",
     "output_type": "stream",
     "text": [
      "c:\\Users\\Asus\\Desktop\\TFM\\TFM_MLOps\\mlflow_project\\src\\classes\\splitter.py:66: SettingWithCopyWarning: \n",
      "A value is trying to be set on a copy of a slice from a DataFrame\n",
      "\n",
      "See the caveats in the documentation: https://pandas.pydata.org/pandas-docs/stable/user_guide/indexing.html#returning-a-view-versus-a-copy\n",
      "  filtered_data.drop(columns=self.column_to_split_by, inplace=True)\n"
     ]
    },
    {
     "name": "stdout",
     "output_type": "stream",
     "text": [
      "Test and train attributes defined 0.3.\n",
      "        Test size: 34277\n",
      "        Train size: 79977\n"
     ]
    },
    {
     "name": "stderr",
     "output_type": "stream",
     "text": [
      "2023/05/04 19:11:40 WARNING mlflow.utils.autologging_utils: Encountered unexpected error during sklearn autologging: RESOURCE_DOES_NOT_EXIST: No Experiment with id=664446553311031711 exists\n"
     ]
    },
    {
     "name": "stdout",
     "output_type": "stream",
     "text": [
      "Model trainer trained\n",
      "Prod model is better\n",
      "Date column finished_d added to the data\n",
      "Data filtered by 84 months\n"
     ]
    },
    {
     "name": "stderr",
     "output_type": "stream",
     "text": [
      "c:\\Users\\Asus\\Desktop\\TFM\\TFM_MLOps\\mlflow_project\\src\\classes\\splitter.py:66: SettingWithCopyWarning: \n",
      "A value is trying to be set on a copy of a slice from a DataFrame\n",
      "\n",
      "See the caveats in the documentation: https://pandas.pydata.org/pandas-docs/stable/user_guide/indexing.html#returning-a-view-versus-a-copy\n",
      "  filtered_data.drop(columns=self.column_to_split_by, inplace=True)\n"
     ]
    },
    {
     "name": "stdout",
     "output_type": "stream",
     "text": [
      "Test and train attributes defined 0.3.\n",
      "        Test size: 74899\n",
      "        Train size: 174762\n"
     ]
    },
    {
     "name": "stderr",
     "output_type": "stream",
     "text": [
      "2023/05/04 19:11:47 WARNING mlflow.utils.autologging_utils: Encountered unexpected error during sklearn autologging: RESOURCE_DOES_NOT_EXIST: No Experiment with id=664446553311031711 exists\n"
     ]
    },
    {
     "name": "stdout",
     "output_type": "stream",
     "text": [
      "Model trainer trained\n",
      "Prod model is better\n",
      "Date column finished_d added to the data\n",
      "Data filtered by 96 months\n"
     ]
    },
    {
     "name": "stderr",
     "output_type": "stream",
     "text": [
      "c:\\Users\\Asus\\Desktop\\TFM\\TFM_MLOps\\mlflow_project\\src\\classes\\splitter.py:66: SettingWithCopyWarning: \n",
      "A value is trying to be set on a copy of a slice from a DataFrame\n",
      "\n",
      "See the caveats in the documentation: https://pandas.pydata.org/pandas-docs/stable/user_guide/indexing.html#returning-a-view-versus-a-copy\n",
      "  filtered_data.drop(columns=self.column_to_split_by, inplace=True)\n"
     ]
    },
    {
     "name": "stdout",
     "output_type": "stream",
     "text": [
      "Test and train attributes defined 0.3.\n",
      "        Test size: 141030\n",
      "        Train size: 329069\n"
     ]
    },
    {
     "name": "stderr",
     "output_type": "stream",
     "text": [
      "2023/05/04 19:11:58 WARNING mlflow.utils.autologging_utils: Encountered unexpected error during sklearn autologging: RESOURCE_DOES_NOT_EXIST: No Experiment with id=664446553311031711 exists\n"
     ]
    },
    {
     "name": "stdout",
     "output_type": "stream",
     "text": [
      "Model trainer trained\n",
      "Prod model is better\n",
      "Date column finished_d added to the data\n",
      "Data filtered by 108 months\n"
     ]
    },
    {
     "name": "stderr",
     "output_type": "stream",
     "text": [
      "c:\\Users\\Asus\\Desktop\\TFM\\TFM_MLOps\\mlflow_project\\src\\classes\\splitter.py:66: SettingWithCopyWarning: \n",
      "A value is trying to be set on a copy of a slice from a DataFrame\n",
      "\n",
      "See the caveats in the documentation: https://pandas.pydata.org/pandas-docs/stable/user_guide/indexing.html#returning-a-view-versus-a-copy\n",
      "  filtered_data.drop(columns=self.column_to_split_by, inplace=True)\n"
     ]
    },
    {
     "name": "stdout",
     "output_type": "stream",
     "text": [
      "Test and train attributes defined 0.3.\n",
      "        Test size: 254295\n",
      "        Train size: 593354\n"
     ]
    },
    {
     "name": "stderr",
     "output_type": "stream",
     "text": [
      "2023/05/04 19:12:17 WARNING mlflow.utils.autologging_utils: Encountered unexpected error during sklearn autologging: RESOURCE_DOES_NOT_EXIST: No Experiment with id=664446553311031711 exists\n"
     ]
    },
    {
     "name": "stdout",
     "output_type": "stream",
     "text": [
      "Model trainer trained\n",
      "Prod model is better\n",
      "Date column finished_d added to the data\n",
      "Data filtered by 120 months\n"
     ]
    },
    {
     "name": "stderr",
     "output_type": "stream",
     "text": [
      "c:\\Users\\Asus\\Desktop\\TFM\\TFM_MLOps\\mlflow_project\\src\\classes\\splitter.py:66: SettingWithCopyWarning: \n",
      "A value is trying to be set on a copy of a slice from a DataFrame\n",
      "\n",
      "See the caveats in the documentation: https://pandas.pydata.org/pandas-docs/stable/user_guide/indexing.html#returning-a-view-versus-a-copy\n",
      "  filtered_data.drop(columns=self.column_to_split_by, inplace=True)\n"
     ]
    },
    {
     "name": "stdout",
     "output_type": "stream",
     "text": [
      "Test and train attributes defined 0.3.\n",
      "        Test size: 373390\n",
      "        Train size: 871243\n"
     ]
    },
    {
     "name": "stderr",
     "output_type": "stream",
     "text": [
      "2023/05/04 19:12:42 WARNING mlflow.utils.autologging_utils: Encountered unexpected error during sklearn autologging: RESOURCE_DOES_NOT_EXIST: No Experiment with id=664446553311031711 exists\n"
     ]
    },
    {
     "name": "stdout",
     "output_type": "stream",
     "text": [
      "Model trainer trained\n",
      "Prod model is better\n",
      "Date column finished_d added to the data\n",
      "Data filtered by 132 months\n"
     ]
    },
    {
     "name": "stderr",
     "output_type": "stream",
     "text": [
      "c:\\Users\\Asus\\Desktop\\TFM\\TFM_MLOps\\mlflow_project\\src\\classes\\splitter.py:66: SettingWithCopyWarning: \n",
      "A value is trying to be set on a copy of a slice from a DataFrame\n",
      "\n",
      "See the caveats in the documentation: https://pandas.pydata.org/pandas-docs/stable/user_guide/indexing.html#returning-a-view-versus-a-copy\n",
      "  filtered_data.drop(columns=self.column_to_split_by, inplace=True)\n"
     ]
    },
    {
     "name": "stdout",
     "output_type": "stream",
     "text": [
      "Test and train attributes defined 0.3.\n",
      "        Test size: 516563\n",
      "        Train size: 1205312\n"
     ]
    },
    {
     "name": "stderr",
     "output_type": "stream",
     "text": [
      "2023/05/04 19:13:20 WARNING mlflow.utils.autologging_utils: Encountered unexpected error during sklearn autologging: RESOURCE_DOES_NOT_EXIST: No Experiment with id=664446553311031711 exists\n"
     ]
    },
    {
     "name": "stdout",
     "output_type": "stream",
     "text": [
      "Model trainer trained\n",
      "Prod model is better\n",
      "Date column finished_d added to the data\n",
      "Data filtered by 144 months\n"
     ]
    },
    {
     "name": "stderr",
     "output_type": "stream",
     "text": [
      "c:\\Users\\Asus\\Desktop\\TFM\\TFM_MLOps\\mlflow_project\\src\\classes\\splitter.py:66: SettingWithCopyWarning: \n",
      "A value is trying to be set on a copy of a slice from a DataFrame\n",
      "\n",
      "See the caveats in the documentation: https://pandas.pydata.org/pandas-docs/stable/user_guide/indexing.html#returning-a-view-versus-a-copy\n",
      "  filtered_data.drop(columns=self.column_to_split_by, inplace=True)\n"
     ]
    },
    {
     "name": "stdout",
     "output_type": "stream",
     "text": [
      "Test and train attributes defined 0.3.\n",
      "        Test size: 608805\n",
      "        Train size: 1420545\n"
     ]
    },
    {
     "name": "stderr",
     "output_type": "stream",
     "text": [
      "2023/05/04 19:14:05 WARNING mlflow.utils.autologging_utils: Encountered unexpected error during sklearn autologging: RESOURCE_DOES_NOT_EXIST: No Experiment with id=664446553311031711 exists\n"
     ]
    },
    {
     "name": "stdout",
     "output_type": "stream",
     "text": [
      "Model trainer trained\n",
      "Prod model is better\n",
      "Date column finished_d added to the data\n",
      "Data filtered by 156 months\n"
     ]
    },
    {
     "name": "stderr",
     "output_type": "stream",
     "text": [
      "c:\\Users\\Asus\\Desktop\\TFM\\TFM_MLOps\\mlflow_project\\src\\classes\\splitter.py:66: SettingWithCopyWarning: \n",
      "A value is trying to be set on a copy of a slice from a DataFrame\n",
      "\n",
      "See the caveats in the documentation: https://pandas.pydata.org/pandas-docs/stable/user_guide/indexing.html#returning-a-view-versus-a-copy\n",
      "  filtered_data.drop(columns=self.column_to_split_by, inplace=True)\n"
     ]
    },
    {
     "name": "stdout",
     "output_type": "stream",
     "text": [
      "Test and train attributes defined 0.3.\n",
      "        Test size: 650804\n",
      "        Train size: 1518540\n"
     ]
    },
    {
     "name": "stderr",
     "output_type": "stream",
     "text": [
      "2023/05/04 19:14:57 WARNING mlflow.utils.autologging_utils: Encountered unexpected error during sklearn autologging: RESOURCE_DOES_NOT_EXIST: No Experiment with id=664446553311031711 exists\n"
     ]
    },
    {
     "name": "stdout",
     "output_type": "stream",
     "text": [
      "Model trainer trained\n",
      "Prod model is better\n",
      "Date column finished_d added to the data\n",
      "Data filtered by 168 months\n",
      "Test and train attributes defined 0.3.\n",
      "        Test size: 678201\n",
      "        Train size: 1582467\n"
     ]
    },
    {
     "name": "stderr",
     "output_type": "stream",
     "text": [
      "2023/05/04 19:15:51 WARNING mlflow.utils.autologging_utils: Encountered unexpected error during sklearn autologging: RESOURCE_DOES_NOT_EXIST: No Experiment with id=664446553311031711 exists\n"
     ]
    },
    {
     "name": "stdout",
     "output_type": "stream",
     "text": [
      "Model trainer trained\n",
      "Prod model is better\n"
     ]
    }
   ],
   "source": [
    "metrics, models = run_whole_timeseries(params=best_params\n",
    "                                          , splitter=splitter\n",
    "                                          , experiment_prefix='test_'\n",
    "                                          , step=12\n",
    "                                          , random_state=47\n",
    "                                          )\n"
   ]
  },
  {
   "cell_type": "code",
   "execution_count": 35,
   "metadata": {},
   "outputs": [
    {
     "data": {
      "text/plain": [
       "{'test_2010-06-01 00:00:00': {'accuracy': 0.6968174204355109,\n",
       "  'precision': 0.782258064516129,\n",
       "  'recall': 0.841648590021692,\n",
       "  'f1': 0.8108672936259143,\n",
       "  'roc_auc': 0.5237654714814343}}"
      ]
     },
     "execution_count": 35,
     "metadata": {},
     "output_type": "execute_result"
    }
   ],
   "source": [
    "metrics"
   ]
  },
  {
   "attachments": {},
   "cell_type": "markdown",
   "metadata": {},
   "source": [
    "# Input drift\n",
    "- Univariate test (kolmogorw-smirnoff and chi squared test)\n",
    "- Multivariate: domain classifier\n"
   ]
  }
 ],
 "metadata": {
  "kernelspec": {
   "display_name": "tfm",
   "language": "python",
   "name": "python3"
  },
  "language_info": {
   "codemirror_mode": {
    "name": "ipython",
    "version": 3
   },
   "file_extension": ".py",
   "mimetype": "text/x-python",
   "name": "python",
   "nbconvert_exporter": "python",
   "pygments_lexer": "ipython3",
   "version": "3.10.10"
  },
  "orig_nbformat": 4
 },
 "nbformat": 4,
 "nbformat_minor": 2
}
