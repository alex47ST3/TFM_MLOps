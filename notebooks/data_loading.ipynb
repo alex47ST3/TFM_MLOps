{
 "cells": [
  {
   "cell_type": "code",
   "execution_count": 2,
   "metadata": {
    "ExecuteTime": {
     "end_time": "2023-04-02T18:40:46.354730Z",
     "start_time": "2023-04-02T18:39:50.501925Z"
    }
   },
   "outputs": [],
   "source": [
    "import os\n",
    "import pandas as pd\n",
    "from kaggle.api.kaggle_api_extended import KaggleApi\n",
    "\n",
    "def download_kaggle_dataset(dataset_name: str) -> pl.DataFrame:\n",
    "    \"\"\"\n",
    "    Download a Kaggle dataset and store it in a Polars DataFrame.\n",
    "\n",
    "    Parameters:\n",
    "    dataset_name (str): The name of the Kaggle dataset to download.\n",
    "\n",
    "    Returns:\n",
    "    pl.DataFrame: A Polars DataFrame containing the downloaded dataset.\n",
    "    \"\"\"\n",
    "\n",
    "    # Set up the Kaggle API client\n",
    "    api = KaggleApi()\n",
    "    api.authenticate()\n",
    "\n",
    "    # Download the dataset and unzip it\n",
    "    api.dataset_download_files(dataset_name)\n",
    "    os.system(f\"unzip -o {dataset_name}.zip -d {dataset_name}\")\n",
    "\n",
    "    # Load the dataset into a Polars DataFrame\n",
    "    df = pl.read_csv(f\"{dataset_name}/*.csv\")\n",
    "\n",
    "    # Remove the unzipped files\n",
    "    os.system(f\"rm -rf {dataset_name} {dataset_name}.zip\")\n",
    "\n",
    "    return df\n",
    "\n",
    "\n"
   ]
  }
 ],
 "metadata": {
  "kernelspec": {
   "display_name": "Python 3",
   "language": "python",
   "name": "python3"
  },
  "language_info": {
   "codemirror_mode": {
    "name": "ipython",
    "version": 3
   },
   "file_extension": ".py",
   "mimetype": "text/x-python",
   "name": "python",
   "nbconvert_exporter": "python",
   "pygments_lexer": "ipython3",
   "version": "3.10.10"
  },
  "orig_nbformat": 4
 },
 "nbformat": 4,
 "nbformat_minor": 2
}
